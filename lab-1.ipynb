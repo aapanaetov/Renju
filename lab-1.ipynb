{
 "cells": [
  {
   "cell_type": "markdown",
   "metadata": {},
   "source": [
    "## L1 - Linear models and gradient descent\n",
    "\n",
    "### Books\n",
    "1. [Deep Learning, I. Goodfellow, Y. Bengio and A. Courville](http://www.deeplearningbook.org/)\n",
    "2. [Neural networks for pattern recognition, C. Bishop](http://cs.du.edu/~mitchell/mario_books/Neural_Networks_for_Pattern_Recognition_-_Christopher_Bishop.pdf)\n",
    "3. [Machine learning: a probabilistic perspective, K. Murphy](http://dsd.future-lab.cn/members/2015nlp/Machine_Learning.pdf)"
   ]
  },
  {
   "cell_type": "markdown",
   "metadata": {},
   "source": [
    "### 0. Basic classification\n",
    "\n",
    "Here you can see basic (possible, non standard) classification of [machine learning](https://en.wikipedia.org/wiki/Machine_learning) tasks.\n",
    "1. [Supervised learning](https://en.wikipedia.org/wiki/Supervised_learning)\n",
    " 1. [Regression](https://en.wikipedia.org/wiki/Regression_analysis)\n",
    " 2. [Classification](https://en.wikipedia.org/wiki/Statistical_classification)\n",
    " 3. [Ranking](https://en.wikipedia.org/wiki/Learning_to_rank)\n",
    "2. [Reinforcment learning](https://en.wikipedia.org/wiki/Reinforcement_learning)\n",
    "3. [Unsupervised learning](https://en.wikipedia.org/wiki/Unsupervised_learning)\n",
    " 1. Clustering \n",
    " 2. Manifold learning\n",
    " 3. Matrix decompostion (factorization)\n",
    " 4. Dimension reduction\n",
    " \n",
    "In this lab we consider only supervised learning. Namely, linear regression and binary linear classification, as simple methods for beginning."
   ]
  },
  {
   "cell_type": "markdown",
   "metadata": {},
   "source": [
    "### 1. Supervised learning basics\n",
    "A supervised learning algorithm is an algorithm that is able to learn from data. Now we need only to clarify what is data and what it means to learn?\n",
    "\n",
    "Let $\\{x_i\\}_{i=1}^{\\mathcal{l}} \\subset \\mathbb{X} = \\mathbb{R}^{n}$ and $\\{y_i\\}_{i=1}^{\\mathcal{l}} \\subset \\mathbb{Y}$. Here $\\mathbb{X}$ is the whole set of objects and $\\mathbb{Y}$ is all possible labels of objects, so $\\{x_i\\}_{i=1}^{\\mathcal{l}}$ is subset with known labels $\\{y_i\\}_{i=1}^{\\mathcal{l}}$. We want to find algorithm, that can predict $y$ for any $x \\in \\mathbb{X}$. Actually, $x = (x^1, \\dots, x^n)$ is some vector of features (formal description), but $x^k$ can have different nature. \n",
    "\n",
    "* $x^k \\in \\{0, 1\\}$ – binary feature, boolean flag\n",
    "* $x^k \\in \\{1,\\dots, m\\}$ – categorical (nominal), classification of entities into particular categories.\n",
    "* $x^k \\in \\{1,\\dots, m\\}^<$ – ordinal, classification of entities in some kind of ordered relationship.\n",
    "* $x^k \\in \\mathbb{R}$ – cardinal, classification based on a numerical value.\n",
    "\n",
    "Categorical features are commonly encoded in some way (for exaple [one-hot encoding](https://en.wikipedia.org/wiki/One-hot)) to ignore false ordering (important for metric algorithms). Moreover it's possible to cast any type of feature to $\\mathbb{R}$, that's why we suppouse that $\\mathbb{X} = \\mathbb{R}^{n}$ further.\n",
    "\n",
    "Process of finding algorithm, that can predict labels, is called training. Usually, it is reduced to minimization problem of the empirical risk.\n",
    "$$\\arg \\min_{\\theta} Q(\\theta) = \\arg \\min_{\\theta} \\frac{1}{\\mathcal{l}}\\sum_{i=1}^{\\mathcal{l}} \\mathcal{L}(f(x_i | \\theta), y_i).$$\n",
    "Here $\\mathcal{L}$ – some loss function that shows how good we predict $y$, and $f(x|\\theta)$ is parametric function, where $\\theta \\in \\Theta$."
   ]
  },
  {
   "cell_type": "markdown",
   "metadata": {},
   "source": [
    "### 2. Linear regression\n",
    "For regression task $\\mathbb{Y} = \\mathbb{R}$. In case of linear model we have learning vector of parameters $w \\in \\mathbb{R}^n$ and predict $y$ as \n",
    "$$y = w^Tx + b.$$\n",
    "\n",
    "For simplicity, let the last element of $x$ is always $1$ and $w$ is concatenation of $[w, b]$. So, we can rewrite model as $y = w^Tx$. For MSE (mean square error) we have following optimization problem\n",
    "$$\\arg \\min_{w} Q(w) = \\arg \\min_{w} \\sum_{i=1}^{\\mathcal{l}}\\big(w^Tx_i - y_i\\big)^2.$$\n",
    "\n",
    "Let $X$ is matrix, where $i$-th row is feature vector of $i$-th object and $Y$ – vector of labels. In this case our expression can be rewritten in matrix form\n",
    "$$\\arg\\min_{w}||Xw - Y ||_{2}.$$\n",
    "But this problem is already well studied and has the analytical solution\n",
    "$$w = (X^TX)^{-1}X^TY.$$\n",
    "\n",
    "#### Exercises\n",
    "1. Let $y = sin(x) + \\varepsilon$, where $x \\in [0, 2\\pi]$ and $\\varepsilon \\sim \\mathcal{N}(0, 0.1)$. Generate 20 train samples and try to learn regression model.\n",
    "2. Plot train data and model's predictions.\n",
    "3. As you see, model has no enough capacity to fit train data. Let's add polynomial features, namely $x^2$ and $x^3$.\n",
    "4. Train linear model one more time and plot results again.\n",
    "5. What happens if you add more features, for example full range $x^{0},\\dots,x^{7}$? "
   ]
  },
  {
   "cell_type": "code",
   "execution_count": 1,
   "metadata": {},
   "outputs": [
    {
     "data": {
      "image/png": "[encoded data removed]",
      "text/plain": [
       "<matplotlib.figure.Figure at 0x7f1c58032ac8>"
      ]
     },
     "metadata": {},
     "output_type": "display_data"
    },
    {
     "data": {
      "image/png": "[encoded data removed]",
      "text/plain": [
       "<matplotlib.figure.Figure at 0x7f1c59b80fd0>"
      ]
     },
     "metadata": {},
     "output_type": "display_data"
    },
    {
     "data": {
      "image/png": "[encoded data removed]",
      "text/plain": [
       "<matplotlib.figure.Figure at 0x7f1c4c31c898>"
      ]
     },
     "metadata": {},
     "output_type": "display_data"
    }
   ],
   "source": [
    "import numpy as np\n",
    "import random\n",
    "from matplotlib import pyplot as plt\n",
    "import matplotlib.lines as mlines\n",
    "%matplotlib inline\n",
    "\n",
    "#Строим матрицу степеней вектора\n",
    "def polynom_matrix(vector, degree):\n",
    "    mat_total = vector\n",
    "    mat_deg = vector\n",
    "    for i in range(degree - 1):\n",
    "        mat_deg = mat_deg * vector\n",
    "        mat_total = np.vstack((mat_total, mat_deg))\n",
    "    return np.vstack((mat_total, np.ones((1, len(vector)))))\n",
    "\n",
    "#По матрице степеней вектора получаем значения функции при векторе коэффициентов w0\n",
    "def get_y(pol_mat, w0):\n",
    "    y_coeff = np.transpose(pol_mat) * w0\n",
    "    return y_coeff.sum(axis = 1)\n",
    "\n",
    "#Строим наш многочлен\n",
    "def line(deg, x_test, y_test, colour):\n",
    "    x = polynom_matrix(x_test, deg)\n",
    "    #Аналитическое решение\n",
    "    w = np.linalg.inv(x @ x.T) @ x @ y_test.T\n",
    "    line_x = np.arange(0, 2 * pi, 0.1)\n",
    "    #Значения нашего многочлена в точках line_x\n",
    "    line_y = get_y((polynom_matrix(line_x, deg)), w)\n",
    "    plt.plot(line_x, line_y, color=colour)\n",
    "    plt.scatter(x_train, y_train, color='r')\n",
    "    plt.show()\n",
    "    return\n",
    "\n",
    "pi = 3.14\n",
    "sigma = 0.1\n",
    "#Генерируем точки\n",
    "x_train = np.array([random.random() * 2 * pi for i in range(20)])\n",
    "ksi = np.array([sigma * np.random.randn() for i in range(20)])\n",
    "y_train = np.sin(x_train) + ksi\n",
    "#Очевидно, прямая не может приближать синус\n",
    "line(1, x_train, y_train, 'b')\n",
    "#Третья степень уже приближает достаточно хорошо\n",
    "line(3, x_train, y_train, 'b')\n",
    "#Седьмая степень переобучается и график не похож на синус\n",
    "#Правда иногда все-таки похож, но это зависит от случайной выборки\n",
    "line(7, x_train, y_train, 'b')"
   ]
  },
  {
   "cell_type": "markdown",
   "metadata": {},
   "source": [
    "### 3. Validation\n",
    "The data used to build the final model usually comes from multiple datasets. In particular, three data sets are commonly used in different stages of the creation of the model.\n",
    "\n",
    "1. We initially fit our parameters on a __training dataset__, that consists of pairs of a feature vector and the corresponding answer. The current model is run with the training dataset and produces a result, which is then compared with the target, for each input vector in the training dataset. Based on the result of the comparison and the specific learning algorithm being used, the parameters of the model are adjusted. The model fitting can include both variable selection and parameter estimation.\n",
    "\n",
    "2. Second one called the __validation dataset__. The validation dataset provides an unbiased evaluation of a model fit on the training dataset while tuning the model's hyperparameters (e.g. regularization coefficient or number of hidden units in a neural network). Validation datasets can be used for regularization by early stopping: stop training when the error on the validation dataset increases, as this is a sign of overfitting to the training dataset. This simple procedure is complicated in practice by the fact that the validation dataset's error may fluctuate during training. This complication has led to the creation of many ad-hoc rules for deciding when overfitting has truly begun.\n",
    "\n",
    "3. Finally, the __test dataset__ is a dataset used to provide an unbiased evaluation of a final trained model.\n",
    "\n",
    "Cross-validation is a validation technique for estimating how accurately a predictive model will perform in practice. The goal of cross validation is to limit problems like overfitting, give an insight on how the model will generalize to an independent dataset.\n",
    "\n",
    "Cross-validation involves partitioning a sample of data into complementary subsets, performing the analysis on one subset and making validation on the other. To reduce variability, multiple rounds of cross-validation are performed using different partitions, and the validation results are caveraged over the rounds to estimate a final predictive model.\n",
    "\n",
    "There are following types:\n",
    "1. Leave-p-out cross-validation - using p observations as the validation set with all possible ways.\n",
    "2. k-fold cross-validation - split data into k folds and using each one as validation set.\n",
    "3. Holdout validation - randomly split data into training and validation set\n",
    "4. Repeated random sub-sampling validation - repeatedly make random splits of data into training and validation set\n",
    "\n",
    "#### Exercises\n",
    "1. Generate 20 validation samples\n",
    "2. Check quality of your model on train set and validation set.\n",
    "3. Have you experienced [overfitting](https://en.wikipedia.org/wiki/Overfitting)?\n",
    "4. Please, read [this article](https://en.wikipedia.org/wiki/VC_dimension) to learn more about model capacity and VC-dimension."
   ]
  },
  {
   "cell_type": "code",
   "execution_count": 2,
   "metadata": {},
   "outputs": [
    {
     "name": "stdout",
     "output_type": "stream",
     "text": [
      "1 5.46590130201 2.55294643862\n",
      "2 6.70587665746 2.44312059262\n",
      "3 0.948106141966 0.0894490097099\n",
      "4 0.871435098759 0.0891077712313\n",
      "5 0.371184199634 0.0783761277551\n",
      "6 0.328240174371 0.0782045294999\n",
      "7 1.1936482236 0.0731861725744\n",
      "8 7.46159379982 0.0623542590007\n",
      "9 81.4295574389 0.052800426595\n",
      "10 118.624380713 0.069526168023\n"
     ]
    }
   ],
   "source": [
    "#Строим вектор коэффициентов по заданной степени\n",
    "def train(deg, x_test, y_test):\n",
    "    x = polynom_matrix(x_test, deg)\n",
    "    w = np.linalg.inv(x @ x.T) @ x @ y_test.T\n",
    "    return w\n",
    "\n",
    "#Считаем ошибку тестируемого вектора коэффициентов на validation set\n",
    "def valid_score(w_test, x_vtest, y_vtest):\n",
    "    y_res = get_y(polynom_matrix(x_vtest, len(w_test) - 1), w_test) #значения нашего многочлена\n",
    "    y_delta = y_vtest - y_res #разность наших значений и истинных\n",
    "    y_error = y_delta * y_delta\n",
    "    return y_error.sum()\n",
    "\n",
    "#Генерируем validation set\n",
    "x_valid = np.array([random.random() * 2 * pi for i in range(20)])\n",
    "ksi_valid = np.array([sigma * np.random.randn() for i in range(20)])\n",
    "y_valid = np.sin(x_valid) + ksi_valid\n",
    "\n",
    "#Выводим степень, ошибку на validation set, ошибку на train set\n",
    "for i in range(10):\n",
    "    print(i + 1, valid_score(train(i + 1, x_train, y_train), x_valid, y_valid),\n",
    "          valid_score(train(i + 1, x_train, y_train), x_train, y_train))\n",
    "#Как видим, начиная с 8-ой степени у нас переобучение\n",
    "#Вообще, в зависимости от выборки, оно то раньше, то позже"
   ]
  },
  {
   "cell_type": "markdown",
   "metadata": {},
   "source": [
    "### 4. Binary linear classification\n",
    "Let $\\mathbb{Y} = \\{-1, +1\\}$ for binary classification. So linear model looks like\n",
    "$$sign(w^Tx + b),$$\n",
    "where $w$ is normal to the separating plane, which is defined parametrically $w^Tx+b=0$. In the half-space, which normal is directed, all points has class +1, otherwise -1. Let's assume that all points of hyperplane has class +1 to resolve the ambiguity. Also we rewrite model in the short variant $sign(w^Tx)$.\n",
    "\n",
    "As with regression, training of linear classifier may be reduced to an optimization problem. We only have to specify the loss function. The most nature option is\n",
    "$$\\mathcal{L}(y_{pred}, y_{true}) = [y_{pred} \\neq y_{true}] = [M < 0],$$\n",
    "where $M$ is the margin value $yw^Tx$, which indicates how far the classifier puts a point in its class. But this loss has one drawback, it's not differentiable. That's why the optimization problem becomes very complex. However we can use any other function, which majorizes this loss. You can find some popular options below\n",
    "\n",
    "1. MSE has one big advantage, we optimize convex function with a local minimum. Moreover analytic solution exists.\n",
    "$$\\big(w^Tx - y \\big)^2$$\n",
    "\n",
    "2. Hinge loss function makes our linear classifier [SVM](https://en.wikipedia.org/wiki/Support_vector_machine) (support vector machine).\n",
    "$$max \\big(0, 1 - yw^Tx \\big)$$\n",
    "\n",
    "3. Logistic loss function has a probabilistic meaning. In particular, this loss leads us to the optimal [Bayesian classifier](https://en.wikipedia.org/wiki/Naive_Bayes_classifier) under certain assumptions on the distribution of features. But it's a different story. So it is often used in practice.\n",
    "$$\\ln \\big( 1 + \\exp(-yw^Tx) \\big)$$"
   ]
  },
  {
   "cell_type": "markdown",
   "metadata": {},
   "source": [
    "#### Exercises\n",
    "1. Let $\\mathbb{P}\\{y=1|x\\} = \\sigma(wx)$, where $\\sigma(z) = \\frac{1}{1 + \\exp(-z)}$. Show that problem below it is nothing like the maximization of the likelihood.\n",
    "$$\\arg\\min_{w}Q(w) = \\arg\\min_{w} \\sum_{x, y} \\ln \\big(1 + \\exp(-yw^Tx )) \\big)$$\n",
    "2. Plot all loss functions in the axes $M \\times L$.\n",
    "3. Generate two normally distributed sets of points on the plane.\n",
    "4. Let points of 1th set (red color) have class +1 and point of 2d set (blue color) have -1.\n",
    "5. Train linear classifier with MSE (use analytical solution), which splits these sets.\n",
    "6. Plot points and separating line of trained classifier.\n",
    "7. What is time comlexity of your solution?"
   ]
  },
  {
   "cell_type": "code",
   "execution_count": 3,
   "metadata": {},
   "outputs": [
    {
     "data": {
      "image/png": "[encoded data removed]",
      "text/plain": [
       "<matplotlib.figure.Figure at 0x7f1c68710470>"
      ]
     },
     "metadata": {},
     "output_type": "display_data"
    }
   ],
   "source": [
    "import math\n",
    "\n",
    "#Определяем наши функции потерь\n",
    "def Id(M):\n",
    "    if (M < 0):\n",
    "        return 1\n",
    "    return 0\n",
    "\n",
    "def MSE(M):\n",
    "    return (M - 1) ** 2\n",
    "\n",
    "def Hinge_loss(M):\n",
    "    if (M > 1):\n",
    "        return 0\n",
    "    return (1 - M)\n",
    "\n",
    "def Logistic_loss(M):\n",
    "    return math.log(1 + math.exp(-M), 2)\n",
    "\n",
    "#Рисуем функцию на промежутке (a;b)\n",
    "def graphic(function, a, b, colour):\n",
    "    x = np.arange(a, b, 0.01)\n",
    "    y = np.array([function(t) for t in x])\n",
    "    plt.plot(x, y, color=colour)\n",
    "    return\n",
    "\n",
    "graphic(Id, -1, 2, 'r')\n",
    "graphic(MSE, -1, 2, 'b')\n",
    "graphic(Hinge_loss, -1, 2, 'black')\n",
    "graphic(Logistic_loss, -1, 2, 'g')"
   ]
  },
  {
   "cell_type": "code",
   "execution_count": 4,
   "metadata": {},
   "outputs": [
    {
     "data": {
      "image/png": "[encoded data removed]",
      "text/plain": [
       "<matplotlib.figure.Figure at 0x7f1c4c16f5c0>"
      ]
     },
     "metadata": {},
     "output_type": "display_data"
    }
   ],
   "source": [
    "#Создаем множество с соответствующими центрами, разбросом, количеством и цветом\n",
    "def make_set(center_x1, center_x2, sigma, number, colour):\n",
    "    x1_cloud = np.array([center_x1 + sigma * np.random.randn() for i in range(number)])\n",
    "    x2_cloud = np.array([center_x2 + sigma * np.random.randn() for i in range(number)])\n",
    "    plt.scatter(x1_cloud, x2_cloud, color = colour)\n",
    "    data = np.vstack((x1_cloud, x2_cloud))\n",
    "    return np.vstack((data, np.ones((1, number))))\n",
    "\n",
    "def make_line(w0, length, colour):\n",
    "    x1 = -length\n",
    "    x2 = (length * w0[0] - w0[1]) / w0[0]\n",
    "    y1 = (length * w0[0] - w0[2]) / w0[1]\n",
    "    y2 = -length\n",
    "    plt.plot([x1, x2], [y1, y2], color = colour)\n",
    "    \n",
    "#Генерируем два множества, объединяем в train set\n",
    "x_train = np.hstack((make_set(1, 1, 1, 20, 'r'), make_set(-1, -1 , 1, 20, 'b')))\n",
    "#Присваиваем точкам наших множеств 1 и -1\n",
    "y_train = np.hstack((np.ones((1, 20)), -np.ones((1, 20))))\n",
    "#Аналитическое решение\n",
    "w = np.linalg.inv(x_train @ x_train.T) @ x_train @ y_train.T\n",
    "make_line(w, 4, 'g')"
   ]
  },
  {
   "cell_type": "markdown",
   "metadata": {},
   "source": [
    "### 5. Gradient descent\n",
    "Gradient descent is a first-order iterative optimization algorithm for finding the minimum of a function. To find a local minimum of a function using gradient descent, one takes steps proportional to the negative of the gradient of the function at the current point. Gradient descent is based on the observation that if function $Q(x)$ is defined and differentiable in a neighborhood of a point $x$, then $Q(x)$ decreases fastest if one goes from $x$  in the direction of the negative gradient.\n",
    "\n",
    "$$x^{k+1} = x^{k} - \\lambda \\cdot \\triangledown Q(x)$$\n",
    "\n",
    "Here $\\lambda$ is step of descent and  $k$ – step number. If $\\lambda$ is too large then algorithm may not converge, otherwise training can last a long time. Also there is rather popular hack to slowly decrease $\\lambda$ with each step. You need to understand that gradient descent finds exactly local minimum. The easiest way to fight this problem is make several runs of algorithm or have good initialization.\n",
    "\n",
    "#### Exercises\n",
    "1. Suggest some quadratic function $Q: \\mathbb{R}^2 \\rightarrow \\mathbb{R}$ with global minimum.\n",
    "2. Find minimum with gradient descent method.\n",
    "3. Plot contour lines.\n",
    "4. Trace the path of gradient descent.\n",
    "5. How do you choose $\\lambda$?\n",
    "6. Evaluate time complexity of solution."
   ]
  },
  {
   "cell_type": "code",
   "execution_count": 5,
   "metadata": {},
   "outputs": [
    {
     "name": "stdout",
     "output_type": "stream",
     "text": [
      "8.596747008493879e-05 1.9999999976204217 9.545259038949926e-17\n"
     ]
    },
    {
     "data": {
      "image/png": "[encoded data removed]",
      "text/plain": [
       "<matplotlib.figure.Figure at 0x7f1c6872bdd8>"
      ]
     },
     "metadata": {},
     "output_type": "display_data"
    }
   ],
   "source": [
    "#Возьмем функцию (x^2 - y + 2)^2, минимум у неё очевидно 0\n",
    "def func(x, y):\n",
    "    return (x * x - y + 2) ** 2\n",
    "\n",
    "#Найдем частные производные\n",
    "def deriv_x(x, y):\n",
    "    return 4 * x * (x ** 2 - y + 2)\n",
    "\n",
    "def deriv_y(x, y):\n",
    "    return 2 * (y - x * x - 2)\n",
    "\n",
    "#Будем на каждом шаге сдвигаться в сторону антиградиента\n",
    "#и запоминать пары точек, чтобы потом нарисовать их\n",
    "def find_argmin(x_step, y_step, derivate_x, derivate_y, lyambda, steps):\n",
    "    for i in range(steps):\n",
    "        delta_x = derivate_x(x_step, y_step)\n",
    "        delta_y = derivate_y(x_step, y_step)\n",
    "        x_step = x_step - lyambda * delta_x\n",
    "        y_step = y_step - lyambda * delta_y\n",
    "        trace_x.append(x_step)\n",
    "        trace_y.append(y_step)\n",
    "    return [x_step, y_step]\n",
    "\n",
    "#Задаем начальное положение\n",
    "x_start, y_start = 2, -3\n",
    "trace_x, trace_y = [x_start], [y_start]\n",
    "#Лямбду выбираем небольшим числом, чтобы не изменять параметры слишком сильно\n",
    "argmin_x, argmin_y = find_argmin(x_start, y_start, deriv_x, deriv_y, 0.001, 10000)\n",
    "plt.scatter(trace_x, trace_y, color='r')\n",
    "print(argmin_x, argmin_y, func(argmin_x, argmin_y))"
   ]
  },
  {
   "cell_type": "markdown",
   "metadata": {},
   "source": [
    "There is category of function which naive gradient descent works poorly for, e.g. [Rosenbrock function](https://en.wikipedia.org/wiki/Rosenbrock_function).\n",
    "$$f(x, y) = (1-x)^2 + 100(y-x^2)^2.$$\n",
    "\n",
    "#### Exercises\n",
    "1. Repeat previous steps for Rosenbrock function.\n",
    "2. What problem do you face?\n",
    "3. Is there any solution?"
   ]
  },
  {
   "cell_type": "code",
   "execution_count": 6,
   "metadata": {},
   "outputs": [
    {
     "name": "stdout",
     "output_type": "stream",
     "text": [
      "0.994373587247526 0.9887562400581974 3.170755559644657e-05\n"
     ]
    },
    {
     "data": {
      "image/png": "[encoded data removed]",
      "text/plain": [
       "<matplotlib.figure.Figure at 0x7f1c68710a58>"
      ]
     },
     "metadata": {},
     "output_type": "display_data"
    }
   ],
   "source": [
    "#Определяем новую функцию и частные производные\n",
    "def R_func(x, y):\n",
    "    return (1 - x) ** 2 + 100 * ((y - x * x) ** 2)\n",
    "\n",
    "def R_deriv_x(x, y):\n",
    "    return 2 * (x - 1) + 400 * x * (x * x - y)\n",
    "\n",
    "def R_deriv_y(x, y):\n",
    "    return 200 * (y - x * x)\n",
    "\n",
    "#Задаем начальное положение\n",
    "x_start, y_start = 2, -3\n",
    "trace_x, trace_y = [x_start], [y_start]\n",
    "argmin_x, argmin_y = find_argmin(x_start, y_start, R_deriv_x, R_deriv_y, 0.0001, 100000)\n",
    "plt.scatter(trace_x, trace_y, color='r')\n",
    "print(argmin_x, argmin_y, R_func(argmin_x, argmin_y))\n",
    "#В зависимости от начального положения тяжело определять лямбду:\n",
    "#при больших лямбда, производные быстро убегают на бесконечность,\n",
    "#при маленьких значениях, мы просто стоим на месте\n",
    "#Но если удается найти удачные параметры, получается красивая картинка=)"
   ]
  },
  {
   "cell_type": "code",
   "execution_count": 7,
   "metadata": {},
   "outputs": [
    {
     "name": "stdout",
     "output_type": "stream",
     "text": [
      "1.0002481183734855 0.9987378730654486 0.0003092674966887367\n"
     ]
    },
    {
     "data": {
      "image/png": "[encoded data removed]",
      "text/plain": [
       "<matplotlib.figure.Figure at 0x7f1c4c15d780>"
      ]
     },
     "metadata": {},
     "output_type": "display_data"
    }
   ],
   "source": [
    "#Теперь изменим нашу функцию find_argmin,\n",
    "#чтобы мы всегда свигали один из параметров на фиксированное число\n",
    "def find_argmin_v2(x_step, y_step, derivate_x, derivate_y, shifting, steps):\n",
    "    for i in range(steps):\n",
    "        delta_x = derivate_x(x_step, y_step)\n",
    "        delta_y = derivate_y(x_step, y_step)\n",
    "        lyambda = shifting / max(abs(delta_x), abs(delta_y))\n",
    "        x_step = x_step - lyambda * delta_x\n",
    "        y_step = y_step - lyambda * delta_y\n",
    "        trace_x.append(x_step)\n",
    "        trace_y.append(y_step)\n",
    "    return [x_step, y_step]\n",
    "\n",
    "#Задаем начальное положение\n",
    "#Теперь можно задавать большие значения, чем в предыдущем варианте,\n",
    "#потому что у нас фиксированный сдвиг на 0.001 по одной из координат\n",
    "x_start, y_start = 100, -3\n",
    "trace_x, trace_y = [x_start], [y_start]\n",
    "argmin_x, argmin_y = find_argmin_v2(x_start, y_start, R_deriv_x, R_deriv_y, 0.002, 100000)\n",
    "plt.scatter(trace_x, trace_y, color='r')\n",
    "print(argmin_x, argmin_y, R_func(argmin_x, argmin_y))\n",
    "#Если начальная точка далеко, нужно либо уменьшить shifting, либо увеличить steps"
   ]
  },
  {
   "cell_type": "markdown",
   "metadata": {},
   "source": [
    "There are some variations of the method, for example steepest descent, where we find optimal $\\lambda$ for each step.\n",
    "$$\\lambda^{k} = \\arg\\min_{\\lambda}Q(x_k - \\lambda\\triangledown Q(x_k)).$$\n",
    "\n",
    "#### Exercises\n",
    "1. Split red and blue sets of points again. Train linear model using gradient descent and MSE.\n",
    "2. Plot your splitting line. Compare with analytical solution.\n",
    "3. Try steepest descent.\n",
    "4. Comare gradient descent methods and show its convergence in axes $[step \\times Q]$."
   ]
  },
  {
   "cell_type": "code",
   "execution_count": 15,
   "metadata": {},
   "outputs": [
    {
     "data": {
      "image/png": "[encoded data removed]",
      "text/plain": [
       "<matplotlib.figure.Figure at 0x7f1c4c14ddd8>"
      ]
     },
     "metadata": {},
     "output_type": "display_data"
    },
    {
     "data": {
      "image/png": "[encoded data removed]",
      "text/plain": [
       "<matplotlib.figure.Figure at 0x7f1c4c2cf6d8>"
      ]
     },
     "metadata": {},
     "output_type": "display_data"
    }
   ],
   "source": [
    "def argmin_w(w_stepp, gradient, steps, lyambda):\n",
    "    for i in range(steps):\n",
    "        w_stepp = w_stepp - lyambda * gradient(w_stepp)\n",
    "        loss_grad.append(loss(w_stepp))\n",
    "    return w_stepp\n",
    "\n",
    "#Аналитическая формула выглядит достаточно говнисто:\n",
    "#(на самом деле она нормально сворачивается, но так не интересно)\n",
    "def shit_find_lambda(w, g, x, y):\n",
    "    a = w @ x @ x.T @ g.T\n",
    "    b = g @ x @ x.T @ w.T\n",
    "    c = g @ x @ y.T\n",
    "    d = y @ x.T @ g.T\n",
    "    e = (g @ x @ x.T @ g.T).sum()\n",
    "    return (a + b - c - d).sum() / (2 * e)\n",
    "    \n",
    "def argmin_w_step(w_stepp, gradient, steps):\n",
    "    for i in range(steps):\n",
    "        lyambda = shit_find_lambda(w_stepp, gradient(w_stepp), x_train, y_train)\n",
    "        w_stepp = w_stepp - lyambda * gradient(w_stepp)\n",
    "        loss_step.append(loss(w_stepp))\n",
    "    return w_stepp\n",
    "\n",
    "def grad(w):\n",
    "    w_0 = 2 * ((w @ x_train - y_train) @ (x_train[0].T)).sum()\n",
    "    w_1 = 2 * ((w @ x_train - y_train) @ (x_train[1].T)).sum()\n",
    "    w_2 = 2 * ((w @ x_train - y_train) @ (x_train[2].T)).sum()\n",
    "    return np.array([w_0, w_1, w_2])\n",
    "\n",
    "def loss(w):\n",
    "    lost = w.T @ x_train - y_train\n",
    "    Q_loss = lost * lost\n",
    "    return Q_loss.sum()\n",
    "\n",
    "#Генерируем два множества, объединяем в train set\n",
    "x_train = np.hstack((make_set(1, 1, 1, 20, 'r'), make_set(-1, -1 , 1, 20, 'b')))\n",
    "#Присваиваем точкам наших множеств 1 и -1, задаем количество шагов\n",
    "y_train = np.hstack((np.ones((1, 20)), -np.ones((1, 20))))\n",
    "grad_steps = 1000\n",
    "#Создаем массивы для хранения ошибки на очередном шаге\n",
    "loss_grad = [loss(w)]\n",
    "loss_step = [loss(w)]\n",
    "step = np.arange(grad_steps + 1)\n",
    "#Задаем начальную точку и находим наши решения\n",
    "w = np.array([10, 20, 10])\n",
    "w_grad = argmin_w(w, grad, grad_steps, 0.001)\n",
    "w_anal = np.linalg.inv(x_train @ x_train.T) @ x_train @ y_train.T\n",
    "w_step = argmin_w_step(w, grad, grad_steps)\n",
    "#Рисуем наши прямые\n",
    "make_line(w_grad, 4, 'g')\n",
    "make_line(w_anal, 4, 'black')\n",
    "make_line(w_step, 4, 'y')\n",
    "plt.show()\n",
    "#Как видим, все три прямые совпали (если брать количество шагов больше, чем мало)\n",
    "plt.scatter(step, loss_grad, color='g')\n",
    "plt.scatter(step, loss_step, color='y')\n",
    "plt.show()\n",
    "#Легко заметить, что steppest приближается к оптимальному значению намного быстрее"
   ]
  },
  {
   "cell_type": "markdown",
   "metadata": {},
   "source": [
    "### 6. Stochastic gradient descent"
   ]
  },
  {
   "cell_type": "markdown",
   "metadata": {},
   "source": [
    "Sometimes you have so huge amount of data, that usual gradient descent becomes too slow. One more option, we have deal with data flow. In this case stochastic gradient method appears on the stage. The idea is simple. You can do a descent step, calculating error and gradient not for all samples, but for some small batch only.\n",
    "\n",
    "#### Еxercises\n",
    "1. Download [mnist](https://www.kaggle.com/c/digit-recognizer).\n",
    "2. Train linear classificator for digits 0 and 1, using logistic loss function and stochastic gradient descent.\n",
    "3. Use holdout to check [accuracy](https://en.wikipedia.org/wiki/Accuracy_and_precision) of classification.\n",
    "4. How do accuracy and training time depend on bathch size?\n",
    "5. Plot graphic that proves your words.\n",
    "6. How many epochs you use? Why?\n",
    "7. Plot value of loss function for each step (try use [exponential smoothing](https://en.wikipedia.org/wiki/Exponential_smoothing))."
   ]
  },
  {
   "cell_type": "code",
   "execution_count": 18,
   "metadata": {},
   "outputs": [],
   "source": [
    "import pandas as pd\n",
    "data = pd.read_csv('train.csv')\n",
    "data = np.array(data)"
   ]
  },
  {
   "cell_type": "code",
   "execution_count": 41,
   "metadata": {},
   "outputs": [],
   "source": [
    "x_train = np.array(data[0][1:])\n",
    "y_train = [1]\n",
    "for d in data[1:]:\n",
    "    if d[0] == 0:\n",
    "        x_train = np.vstack((x_train, d[1:]))\n",
    "        y_train.append(-1)\n",
    "    if d[0] == 1:\n",
    "        x_train = np.vstack((x_train, d[1:]))\n",
    "        y_train.append(1)\n",
    "y_train = (np.array([y_train])).T\n",
    "x_train = np.hstack((x_train, np.ones((len(y_train), 1))))\n",
    "train_set = np.hstack((y_train, x_train))\n",
    "np.random.shuffle(train_set)"
   ]
  },
  {
   "cell_type": "code",
   "execution_count": 124,
   "metadata": {},
   "outputs": [],
   "source": [
    "import time\n",
    "\n",
    "def Log_loss(w, x, y):\n",
    "    res = 0\n",
    "    for i in range(len(y)):\n",
    "        if (y[i] * w @ x[i].T > 20):\n",
    "            res += 0\n",
    "        elif (y[i] * w @ x[i].T < -20):\n",
    "            res += -y[i] * w @ x[i].T\n",
    "        else:\n",
    "            res += math.log(1 + math.exp(-y[i] * w @ x[i].T))\n",
    "    return res\n",
    "\n",
    "def derivate(w, x, y):\n",
    "    der = np.zeros((1, 785)).T\n",
    "    for j in range(785):\n",
    "        for i in range(x.shape[0]):\n",
    "            if (y[i] * w @ x[i].T > 20):\n",
    "                der[j] += 0\n",
    "            elif (y[i] * w @ x[i].T < -20):\n",
    "                der[j] += y[i] * x[i][j]\n",
    "            else:\n",
    "                a = math.exp(y[i] * w @ x[i].T)\n",
    "                der[j] += y[i] * x[i][j] / (1 + a)\n",
    "    return -der.T\n",
    "\n",
    "def stoh_gradient(w_steep, gradient, batch_size, echos, lyambda, data_train):\n",
    "    start = time.time()\n",
    "    for i in range(echos):\n",
    "        np.random.shuffle(data_train)\n",
    "        y = data_train[:,0]\n",
    "        x = data_train[:,1:]\n",
    "        begin = 0\n",
    "        step = 1\n",
    "        while begin < min(1000, x.shape[0]):\n",
    "            end = min(begin + batch_size, x.shape[0])\n",
    "            w_steep = w_steep - lyambda * gradient(w_steep, x[begin:end], y[begin:end])\n",
    "            begin = end\n",
    "            loss_depend.append(Log_loss(w_steep, x_train, y_train))\n",
    "            steps.append(step)\n",
    "            step += 1\n",
    "    time_depend.append(time.time() - start)\n",
    "    batches.append(batch_size)\n",
    "    accuracy_depend.append(1 - accuracy(w_steep, x_train, y_train))\n",
    "    return w_steep\n",
    "\n",
    "def accuracy(w, x, y):\n",
    "    right = 0\n",
    "    results = (w @ x.T).T\n",
    "    for i in range(len(y)):\n",
    "        if (results[i] * y[i] > 0):\n",
    "            right += 1\n",
    "    return right/len(y)\n",
    "\n",
    "batches = []\n",
    "accuracy_depend = []\n",
    "time_depend = []\n",
    "loss_depend = []\n",
    "steps = []\n",
    "w_begin = np.zeros((1, 785))\n",
    "#w_new_best = stoh_gradient(w_begin, derivate, 100, 1, 0.01, train_set)\n",
    "#print(accuracy(w_new_best, x_train, y_train))"
   ]
  },
  {
   "cell_type": "code",
   "execution_count": 125,
   "metadata": {
    "scrolled": false
   },
   "outputs": [
    {
     "data": {
      "image/png": "[encoded data removed]",
      "text/plain": [
       "<matplotlib.figure.Figure at 0x7f1c37334e10>"
      ]
     },
     "metadata": {},
     "output_type": "display_data"
    },
    {
     "data": {
      "image/png": "[encoded data removed]",
      "text/plain": [
       "<matplotlib.figure.Figure at 0x7f1c37126fd0>"
      ]
     },
     "metadata": {},
     "output_type": "display_data"
    }
   ],
   "source": [
    "import time\n",
    "\n",
    "for j in range(10):\n",
    "    stoh_gradient(w_begin, derivate, 10 * j + 10, 1, 0.01, train_set)\n",
    "    \n",
    "plt.scatter(batches, accuracy_depend, color='r')\n",
    "plt.show()\n",
    "plt.scatter(batches, time_depend, color='b')\n",
    "plt.show()"
   ]
  },
  {
   "cell_type": "code",
   "execution_count": 118,
   "metadata": {},
   "outputs": [
    {
     "data": {
      "text/plain": [
       "<matplotlib.collections.PathCollection at 0x7f1c41d467f0>"
      ]
     },
     "execution_count": 118,
     "metadata": {},
     "output_type": "execute_result"
    },
    {
     "data": {
      "image/png": "[encoded data removed]",
      "text/plain": [
       "<matplotlib.figure.Figure at 0x7f1c41cd2f60>"
      ]
     },
     "metadata": {},
     "output_type": "display_data"
    }
   ],
   "source": [
    "loss_depend = []\n",
    "steps = []\n",
    "stoh_gradient(w_begin, derivate, 50, 1, 0.1, train_set)\n",
    "plt.scatter(steps, loss_depend, color='r')"
   ]
  },
  {
   "cell_type": "markdown",
   "metadata": {},
   "source": [
    "#### Momentum method\n",
    "Stochastic gradient descent with momentum remembers the update of $x$ at each iteration, and determines the next update as a linear combination of the gradient and the previous update\n",
    "$$x^{k+1} = x^{k} - s^{k},$$ where $s^k = \\gamma s^{k-1} + \\lambda\\triangledown Q(x^k)$, $0 <\\gamma < 1$ – smoothing ratio and $s^{-1} = 0$.\n",
    "\n",
    "#### Еxercises\n",
    "1. Find minimum for $Q(x,y)=10x^2+y^2$ with descent method.\n",
    "2. Use momentum method and compare pathes.\n",
    "3. How do you choose $\\gamma$?"
   ]
  },
  {
   "cell_type": "code",
   "execution_count": 173,
   "metadata": {},
   "outputs": [
    {
     "name": "stdout",
     "output_type": "stream",
     "text": [
      "[0.06090132007788016, 1.5e-323] [-0.05848415762441659, -1e-323]\n",
      "\n"
     ]
    },
    {
     "data": {
      "image/png": "[encoded data removed]",
      "text/plain": [
       "<matplotlib.figure.Figure at 0x7f1c366b7160>"
      ]
     },
     "metadata": {},
     "output_type": "display_data"
    },
    {
     "data": {
      "image/png": "[encoded data removed]",
      "text/plain": [
       "<matplotlib.figure.Figure at 0x7f1c365699b0>"
      ]
     },
     "metadata": {},
     "output_type": "display_data"
    }
   ],
   "source": [
    "def gradx(x ,y):\n",
    "    return 20 * x\n",
    "\n",
    "def grady(x, y):\n",
    "    return 2 * y\n",
    "\n",
    "def moment_gradient(x, y, der_x, der_y, steps, shifting, alpha):\n",
    "    x_prev = x\n",
    "    y_prev = y\n",
    "    moment_path_x.append(x)\n",
    "    moment_path_y.append(y)\n",
    "    for i in range(steps):\n",
    "        delta_x = der_x(x, y)\n",
    "        delta_y = der_y(x, y)\n",
    "        lyambda = shifting / max(abs(delta_x), abs(delta_y))\n",
    "        x = x * (1 - alpha) + x_prev * alpha - lyambda * der_x(x, y)\n",
    "        y = y * (1 - alpha) + y_prev * alpha - lyambda * der_y(x, y)\n",
    "        moment_path_x.append(x)\n",
    "        moment_path_y.append(y)\n",
    "        x_prev = moment_path_x[-2]\n",
    "        y_prev = moment_path_y[-2]\n",
    "    return [x, y]\n",
    "\n",
    "def descent_gradient(x, y, der_x, der_y, steps, shifting):\n",
    "    descent_path_x.append(x)\n",
    "    descent_path_y.append(y)\n",
    "    for i in range(steps):\n",
    "        delta_x = der_x(x, y)\n",
    "        delta_y = der_y(x, y)\n",
    "        lyambda = shifting / max(abs(delta_x), abs(delta_y))\n",
    "        x = x - lyambda * der_x(x, y)\n",
    "        y = y - lyambda * der_y(x, y)\n",
    "        descent_path_x.append(x)\n",
    "        descent_path_y.append(y)\n",
    "    return [x, y]\n",
    "\n",
    "moment_path_x = []\n",
    "moment_path_y = []\n",
    "descent_path_x = []\n",
    "descent_path_y = []\n",
    "x_start = 100\n",
    "y_start = 10\n",
    "w_moment = moment_gradient(x_start, y_start, gradx, grady, 10000, 0.1, 0.4)\n",
    "w_descent = descent_gradient(x_start, y_start, gradx, grady, 10000, 0.1)\n",
    "\n",
    "print(w_moment, w_descent)\n",
    "print()\n",
    "plt.scatter(moment_path_x[1:], moment_path_y[1:], color='r')\n",
    "plt.show()\n",
    "plt.scatter(descent_path_x[1:], descent_path_y[1:], color='b')\n",
    "plt.show()"
   ]
  },
  {
   "cell_type": "markdown",
   "metadata": {},
   "source": [
    "#### Nesterov accelerated gradient\n",
    "And the logical development of this approach leads to the accelerated Nesterov's gradient. The descent step is calculated a little differently\n",
    "$$s^k = \\gamma s^{k-1} + \\lambda\\triangledown Q(x^k - \\gamma s^{k-1}),$$\n",
    "so we find gradient at the point which moment will move us.\n",
    "\n",
    "#### Еxercises\n",
    "1. Compare this method and previous with Rosenbrock function.\n",
    "2. Plot traces of both algorithms."
   ]
  },
  {
   "cell_type": "code",
   "execution_count": 174,
   "metadata": {},
   "outputs": [
    {
     "name": "stdout",
     "output_type": "stream",
     "text": [
      "[1.6946346406390433, 2.6740731361769483] [1.4447497989130436, 1.977281007104194] [0.1271217319799024, 0.06181061497630394]\n"
     ]
    },
    {
     "data": {
      "image/png": "[encoded data removed]",
      "text/plain": [
       "<matplotlib.figure.Figure at 0x7f1c366719b0>"
      ]
     },
     "metadata": {},
     "output_type": "display_data"
    },
    {
     "data": {
      "image/png": "[encoded data removed]",
      "text/plain": [
       "<matplotlib.figure.Figure at 0x7f1c366325c0>"
      ]
     },
     "metadata": {},
     "output_type": "display_data"
    },
    {
     "data": {
      "image/png": "[encoded data removed]",
      "text/plain": [
       "<matplotlib.figure.Figure at 0x7f1c364eb748>"
      ]
     },
     "metadata": {},
     "output_type": "display_data"
    }
   ],
   "source": [
    "def nesterov_gradient(x, y, der_x, der_y, steps, shifting, alpha):\n",
    "    x_prev = x\n",
    "    y_prev = y\n",
    "    nest_path_x.append(x)\n",
    "    nest_path_y.append(y)\n",
    "    for i in range(steps):\n",
    "        x0 = x * (1 + alpha) - alpha * x_prev\n",
    "        y0 = y * (1 + alpha) - alpha * y_prev\n",
    "        delta_x = der_x(x0, y0)\n",
    "        delta_y = der_y(x0, y0)\n",
    "        lyambda = shifting / max(abs(delta_x), abs(delta_y))    \n",
    "        x = x * (1 - alpha) + x_prev * alpha - lyambda * der_x(x0, y0)\n",
    "        y = y * (1 - alpha) + y_prev * alpha - lyambda * der_y(x0, y0)\n",
    "        nest_path_x.append(x)\n",
    "        nest_path_y.append(y)\n",
    "        x_prev = nest_path_x[-2]\n",
    "        y_prev = nest_path_y[-2]\n",
    "    return [x, y]\n",
    "\n",
    "moment_path_x = []\n",
    "moment_path_y = []\n",
    "descent_path_x = []\n",
    "descent_path_y = []\n",
    "nest_path_x = []\n",
    "nest_path_y = []\n",
    "x_start = 5\n",
    "y_start = -3\n",
    "w_moment = moment_gradient(x_start, y_start, R_deriv_x, R_deriv_y, 2000, 0.1, 0.3)\n",
    "w_descent = descent_gradient(x_start, y_start, R_deriv_x, R_deriv_y, 2000, 0.1)\n",
    "w_nest = nesterov_gradient(x_start, y_start, R_deriv_x, R_deriv_y, 2000, 0.1, 0.3)\n",
    "\n",
    "print(w_moment, w_descent, w_nest)\n",
    "plt.scatter(moment_path_x[1:], moment_path_y[1:], color='r')\n",
    "plt.show()\n",
    "plt.scatter(descent_path_x[1:], descent_path_y[1:], color='b')\n",
    "plt.show()\n",
    "plt.scatter(nest_path_x[1:], nest_path_y[1:], color='g')\n",
    "plt.show()"
   ]
  },
  {
   "cell_type": "markdown",
   "metadata": {},
   "source": [
    "#### Adagrad (2011)\n",
    "Adaptive gradient finds lambda for each dimension of the input vector x. Informally speaking, for sparce features it makes a bigger step, but for regular ones smaller step.\n",
    "$$x_{i}^{k + 1} = x_{i}^{k} - \\frac{\\lambda}{\\sqrt{G_{i, i}^k } + \\varepsilon} \\cdot \\frac{\\partial Q}{\\partial x_i}(x^k),$$\n",
    "* $G^{k} = \\sum_{t=1}^{k}g_t g_t^{T}$, где $g_t = \\triangledown Q(x^t)$.\n",
    "* $\\varepsilon$ - epsilon to avoid division by zero.\n",
    "It improves convergence of the learning process (e.g. when using neural networks for text).\n",
    "\n",
    "#### RMSprop\n",
    "To avoid growth of the denominator we can use the following modification. Let's calculate the matrix $G^k$ only for a small number of latest steps, it can be done for example using exponential smoothing.\n",
    "$$G^{k+1} = \\gamma G^{k} + (1 - \\gamma)g_{k+1}g_{k+1}^{T},$$\n",
    "where $0< \\gamma < 1$ - smoothing factor\n",
    "\n",
    "#### Еxercises\n",
    "1. Read about adadelta and adam (links below).\n",
    "2. Give an example of a function that can show the difference in the studied stohastic gradient methods.\n",
    "3. Show animation step by step how methods work.\n",
    "4. Use your favorite method on mnist dataset again.\n",
    "5. Show convergence of alrotigthm.\n",
    "6. Check quality, using holdout.\n",
    "\n",
    "#### Papers\n",
    "1. [Adadelta (2012)](https://arxiv.org/pdf/1212.5701.pdf)\n",
    "2. [Adam (2015)](https://arxiv.org/pdf/1412.6980.pdf)"
   ]
  }
 ],
 "metadata": {
  "kernelspec": {
   "display_name": "Python 3",
   "language": "python",
   "name": "python3"
  },
  "language_info": {
   "codemirror_mode": {
    "name": "ipython",
    "version": 3
   },
   "file_extension": ".py",
   "mimetype": "text/x-python",
   "name": "python",
   "nbconvert_exporter": "python",
   "pygments_lexer": "ipython3",
   "version": "3.6.3"
  }
 },
 "nbformat": 4,
 "nbformat_minor": 1
}
